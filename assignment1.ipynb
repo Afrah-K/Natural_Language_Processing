{
 "cells": [
  {
   "cell_type": "code",
   "execution_count": 1,
   "metadata": {},
   "outputs": [],
   "source": [
    "import re\n",
    "from collections import Counter\n",
    "\n",
    "# 1. Read the file\n",
    "def read_file(file_path):\n",
    "    with open(file_path, 'r', encoding='utf-8') as file:\n",
    "        return file.read()\n",
    "\n",
    "file_path = 'cats.txt'\n",
    "text_content = read_file(file_path)"
   ]
  },
  {
   "cell_type": "code",
   "execution_count": 2,
   "metadata": {},
   "outputs": [
    {
     "name": "stdout",
     "output_type": "stream",
     "text": [
      "Lines: [\"The joy that people derive from their feline companions is a source of boundless happiness and contentment. Cat owners often find immense delight in the simple yet heartwarming interactions with their furry friends. The gentle purring, the soft nuzzles, and the playful antics of their cats bring about a sense of comfort and companionship that is unmatched. The unconditional love and acceptance that cats offer create a unique bond, fostering a profound sense of happiness in their human counterparts. Whether it's the calming presence of a cat curled up in a sunlit spot or the playful chase of a feather toy, the shared moments between people and their cats become cherished memories that brighten even the dullest days. The satisfaction of providing a loving home to these independent yet affectionate creatures resonates deeply with cat owners, cultivating a joy that goes beyond the ordinary and transforms their homes into havens of happiness.\"]\n"
     ]
    }
   ],
   "source": [
    "# 2. Split the text line-by-line (separated by full-stop)\n",
    "def split_lines(text):\n",
    "    return text.split('\\n')\n",
    "\n",
    "lines = split_lines(text_content)\n",
    "print(\"Lines:\", lines)"
   ]
  },
  {
   "cell_type": "code",
   "execution_count": 3,
   "metadata": {},
   "outputs": [
    {
     "name": "stdout",
     "output_type": "stream",
     "text": [
      "Words: ['The', 'joy', 'that', 'people', 'derive', 'from', 'their', 'feline', 'companions', 'is', 'a', 'source', 'of', 'boundless', 'happiness', 'and', 'contentment', 'Cat', 'owners', 'often', 'find', 'immense', 'delight', 'in', 'the', 'simple', 'yet', 'heartwarming', 'interactions', 'with', 'their', 'furry', 'friends', 'The', 'gentle', 'purring', 'the', 'soft', 'nuzzles', 'and', 'the', 'playful', 'antics', 'of', 'their', 'cats', 'bring', 'about', 'a', 'sense', 'of', 'comfort', 'and', 'companionship', 'that', 'is', 'unmatched', 'The', 'unconditional', 'love', 'and', 'acceptance', 'that', 'cats', 'offer', 'create', 'a', 'unique', 'bond', 'fostering', 'a', 'profound', 'sense', 'of', 'happiness', 'in', 'their', 'human', 'counterparts', 'Whether', 'it', 's', 'the', 'calming', 'presence', 'of', 'a', 'cat', 'curled', 'up', 'in', 'a', 'sunlit', 'spot', 'or', 'the', 'playful', 'chase', 'of', 'a', 'feather', 'toy', 'the', 'shared', 'moments', 'between', 'people', 'and', 'their', 'cats', 'become', 'cherished', 'memories', 'that', 'brighten', 'even', 'the', 'dullest', 'days', 'The', 'satisfaction', 'of', 'providing', 'a', 'loving', 'home', 'to', 'these', 'independent', 'yet', 'affectionate', 'creatures', 'resonates', 'deeply', 'with', 'cat', 'owners', 'cultivating', 'a', 'joy', 'that', 'goes', 'beyond', 'the', 'ordinary', 'and', 'transforms', 'their', 'homes', 'into', 'havens', 'of', 'happiness']\n"
     ]
    }
   ],
   "source": [
    "# 3. Split the entire text word-by-word (separated by white space)\n",
    "def split_words(text):\n",
    "    return re.findall(r'\\b\\w+\\b', text)\n",
    "\n",
    "words = split_words(text_content)\n",
    "print(\"Words:\", words)"
   ]
  },
  {
   "cell_type": "code",
   "execution_count": 4,
   "metadata": {},
   "outputs": [
    {
     "name": "stdout",
     "output_type": "stream",
     "text": [
      "Keywords: [('a', 9), ('of', 8), ('the', 8), ('their', 6), ('and', 6)]\n"
     ]
    }
   ],
   "source": [
    "# 4. Separate the list-of-words (to find out most used keywords)\n",
    "def find_keywords(words, num_keywords=5):\n",
    "    word_freq = Counter(words)\n",
    "    return word_freq.most_common(num_keywords)\n",
    "\n",
    "keywords = find_keywords(words)\n",
    "print(\"Keywords:\", keywords)"
   ]
  },
  {
   "cell_type": "code",
   "execution_count": 5,
   "metadata": {},
   "outputs": [
    {
     "name": "stdout",
     "output_type": "stream",
     "text": [
      "Filtered Words (without stopwords): ['joy', 'people', 'derive', 'feline', 'companions', 'source', 'boundless', 'happiness', 'contentment', 'Cat', 'owners', 'often', 'find', 'immense', 'delight', 'simple', 'yet', 'heartwarming', 'interactions', 'furry', 'friends', 'gentle', 'purring', 'soft', 'nuzzles', 'playful', 'antics', 'cats', 'bring', 'sense', 'comfort', 'companionship', 'unmatched', 'unconditional', 'love', 'acceptance', 'cats', 'offer', 'create', 'unique', 'bond', 'fostering', 'profound', 'sense', 'happiness', 'human', 'counterparts', 'Whether', 'calming', 'presence', 'cat', 'curled', 'sunlit', 'spot', 'playful', 'chase', 'feather', 'toy', 'shared', 'moments', 'people', 'cats', 'become', 'cherished', 'memories', 'brighten', 'even', 'dullest', 'days', 'satisfaction', 'providing', 'loving', 'home', 'independent', 'yet', 'affectionate', 'creatures', 'resonates', 'deeply', 'cat', 'owners', 'cultivating', 'joy', 'goes', 'beyond', 'ordinary', 'transforms', 'homes', 'havens', 'happiness']\n"
     ]
    }
   ],
   "source": [
    "# 5. Separate the list-of-joining-words (to ignore them)\n",
    "def remove_stopwords(words):\n",
    "    stop_words = set([\n",
    "        'i', 'me', 'my', 'myself', 'we', 'our', 'ours', 'ourselves', 'you', 'your', 'yours', 'yourself', 'yourselves',\n",
    "        'he', 'him', 'his', 'himself', 'she', 'her', 'hers', 'herself', 'it', 'its', 'itself', 'they', 'them', 'their',\n",
    "        'theirs', 'themselves', 'what', 'which', 'who', 'whom', 'this', 'that', 'these', 'those', 'am', 'is', 'are', 'was',\n",
    "        'were', 'be', 'been', 'being', 'have', 'has', 'had', 'having', 'do', 'does', 'did', 'doing', 'a', 'an', 'the', 'and',\n",
    "        'but', 'if', 'or', 'because', 'as', 'until', 'while', 'of', 'at', 'by', 'for', 'with', 'about', 'against', 'between',\n",
    "        'into', 'through', 'during', 'before', 'after', 'above', 'below', 'to', 'from', 'up', 'down', 'in', ' out', 'on', 'off',\n",
    "        'over', 'under', 'again', 'further', 'then', 'once', 'here', 'there', 'when', 'where', 'why', 'how', 'all', 'any', 'both',\n",
    "        'each', 'few', 'more', 'most', 'other', 'some', 'such', 'no', 'nor', 'not', 'only', 'own', 'same', 'so', 'than', 'too',\n",
    "        'very', 's', 't', 'can', 'will', 'just', 'don', 'should', 'now', 'd', 'll', 'm', 'o', 're', 've', 'y', 'ain', 'aren',\n",
    "        'couldn', 'didn', 'doesn', 'hadn', 'hasn', 'haven', 'isn', 'ma', 'mightn', 'mustn', 'needn', 'shan', 'shouldn', 'wasn', 'weren', 'won', 'wouldn'\n",
    "    ])\n",
    "    return [word for word in words if word.lower() not in stop_words]\n",
    "\n",
    "filtered_words = remove_stopwords(words)\n",
    "print(\"Filtered Words (without stopwords):\", filtered_words)"
   ]
  },
  {
   "cell_type": "code",
   "execution_count": 6,
   "metadata": {},
   "outputs": [
    {
     "name": "stdout",
     "output_type": "stream",
     "text": [
      "Sentiment: Positive\n"
     ]
    }
   ],
   "source": [
    "# 6. Bag of words for sentiment analysis\n",
    "def bag_of_words(text, positive_words, negative_words):\n",
    "    words = split_words(text)\n",
    "    word_freq = Counter(words)\n",
    "\n",
    "    # Count positive and negative words\n",
    "    positive_count = sum(word_freq[word.lower()] for word in positive_words)\n",
    "    negative_count = sum(word_freq[word.lower()] for word in negative_words)\n",
    "\n",
    "    if positive_count > negative_count:\n",
    "        return 'Positive'\n",
    "    elif negative_count > positive_count:\n",
    "        return 'Negative'\n",
    "    else:\n",
    "        return 'Neutral'\n",
    "\n",
    "positive_words = ['good', 'excellent', 'positive','joy', 'delight', 'heartwarming', 'comfort', 'companionship', 'unconditional', 'love', \n",
    "                  'acceptance', 'unique', 'bond', 'profound', 'happiness', 'calming', 'playful', 'cherished', 'memories', 'brighten', 'satisfaction', \n",
    "                  'providing', 'loving', 'independent', 'affectionate', 'resonates', 'deeply', 'havens']  # Add more positive words\n",
    "negative_words = ['bad', 'poor', 'negative', 'sadness', 'displeasure', 'discomfort', 'loneliness', 'rejection', 'unpleasant', 'dull', \n",
    "                  'ordinary','unpleasant', 'stressful', 'disruptive', 'unhappy', 'unsatisfying']  # Add more negative words\n",
    "\n",
    "\n",
    "sentiment = bag_of_words(text_content, positive_words, negative_words)\n",
    "print(\"Sentiment:\", sentiment)"
   ]
  },
  {
   "cell_type": "code",
   "execution_count": null,
   "metadata": {},
   "outputs": [],
   "source": []
  }
 ],
 "metadata": {
  "kernelspec": {
   "display_name": "Python 3",
   "language": "python",
   "name": "python3"
  },
  "language_info": {
   "codemirror_mode": {
    "name": "ipython",
    "version": 3
   },
   "file_extension": ".py",
   "mimetype": "text/x-python",
   "name": "python",
   "nbconvert_exporter": "python",
   "pygments_lexer": "ipython3",
   "version": "3.11.0"
  }
 },
 "nbformat": 4,
 "nbformat_minor": 2
}
