{
 "cells": [
  {
   "cell_type": "code",
   "execution_count": 12,
   "metadata": {},
   "outputs": [],
   "source": [
    "import pandas as pd\n",
    "from sklearn.model_selection import train_test_split\n",
    "from sklearn.feature_extraction.text import CountVectorizer\n",
    "from sklearn.linear_model import LogisticRegression\n",
    "from sklearn.metrics import accuracy_score, classification_report\n",
    "import numpy as np\n"
   ]
  },
  {
   "cell_type": "code",
   "execution_count": 7,
   "metadata": {},
   "outputs": [],
   "source": [
    "from kaggle.api.kaggle_api_extended import KaggleApi\n",
    "\n",
    "# Replace 'dataset-owner/dataset-name' with the actual Kaggle dataset you want to download\n",
    "dataset_name = 'pritsheta/indian-male-and-female-name-dataset'\n",
    "\n",
    "import os\n",
    "\n",
    "# Set Kaggle API key using environment variable\n",
    "os.environ['KAGGLE_USERNAME'] = 'afrahkausar'\n",
    "os.environ['KAGGLE_KEY'] = 'b39a158c2a0284fbdb9ed64b316d24b6'\n",
    "\n",
    "# Initialize Kaggle API\n",
    "api = KaggleApi()\n",
    "api.authenticate()  # Make sure your Kaggle API key is in the correct directory\n",
    "\n",
    "# Download the dataset\n",
    "api.dataset_download_files(dataset_name, unzip=True)\n"
   ]
  },
  {
   "cell_type": "code",
   "execution_count": 13,
   "metadata": {},
   "outputs": [],
   "source": [
    "df = pd.read_csv('Indian-Name.csv', encoding='ISO-8859-1')"
   ]
  },
  {
   "cell_type": "code",
   "execution_count": 15,
   "metadata": {},
   "outputs": [
    {
     "name": "stdout",
     "output_type": "stream",
     "text": [
      "Accuracy: 1.0\n",
      "Classification Report:\n",
      "              precision    recall  f1-score   support\n",
      "\n",
      "           1       1.00      1.00      1.00         1\n",
      "\n",
      "    accuracy                           1.00         1\n",
      "   macro avg       1.00      1.00      1.00         1\n",
      "weighted avg       1.00      1.00      1.00         1\n",
      "\n"
     ]
    }
   ],
   "source": [
    "# Sample data\n",
    "data = {'Name': ['Yash', 'Prit', 'Meet', 'Drashti'],\n",
    "        'Target': [1, 1, 1, 0]}\n",
    "df = pd.DataFrame(data)\n",
    "\n",
    "# Features (X) and target variable (y)\n",
    "X = df[['Name']]\n",
    "y = df['Target']\n",
    "\n",
    "# Convert names to numerical features using CountVectorizer\n",
    "vectorizer = CountVectorizer(analyzer='char', ngram_range=(2, 2))\n",
    "X_vec = vectorizer.fit_transform(X['Name']).todense()\n",
    "\n",
    "# Split the data into training and testing sets\n",
    "X_train, X_test, y_train, y_test = train_test_split(X_vec, y, test_size=0.25, random_state=42)\n",
    "\n",
    "# Convert X_train to a NumPy array\n",
    "X_train = np.asarray(X_train)\n",
    "\n",
    "# Train a Logistic Regression classifier\n",
    "clf = LogisticRegression(random_state=42)\n",
    "clf.fit(X_train, y_train)\n",
    "\n",
    "# Make predictions\n",
    "X_test = np.asarray(X_test)\n",
    "y_pred = clf.predict(X_test)\n",
    "\n",
    "# Evaluate the model\n",
    "accuracy = accuracy_score(y_test, y_pred)\n",
    "report = classification_report(y_test, y_pred)\n",
    "\n",
    "print(f\"Accuracy: {accuracy}\")\n",
    "print(\"Classification Report:\")\n",
    "print(report)\n"
   ]
  },
  {
   "cell_type": "code",
   "execution_count": null,
   "metadata": {},
   "outputs": [],
   "source": []
  }
 ],
 "metadata": {
  "kernelspec": {
   "display_name": "Python 3",
   "language": "python",
   "name": "python3"
  },
  "language_info": {
   "codemirror_mode": {
    "name": "ipython",
    "version": 3
   },
   "file_extension": ".py",
   "mimetype": "text/x-python",
   "name": "python",
   "nbconvert_exporter": "python",
   "pygments_lexer": "ipython3",
   "version": "3.11.0"
  }
 },
 "nbformat": 4,
 "nbformat_minor": 2
}
